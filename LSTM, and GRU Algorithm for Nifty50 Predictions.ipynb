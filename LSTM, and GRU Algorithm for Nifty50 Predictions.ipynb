{
 "cells": [
  {
   "cell_type": "code",
   "execution_count": 1,
   "metadata": {
    "id": "IAR4oyUEXgH0"
   },
   "outputs": [
    {
     "name": "stderr",
     "output_type": "stream",
     "text": [
      "C:\\Users\\shamb\\anaconda3\\lib\\site-packages\\pandas\\core\\computation\\expressions.py:21: UserWarning: Pandas requires version '2.8.4' or newer of 'numexpr' (version '2.8.1' currently installed).\n",
      "  from pandas.core.computation.check import NUMEXPR_INSTALLED\n",
      "C:\\Users\\shamb\\anaconda3\\lib\\site-packages\\pandas\\core\\arrays\\masked.py:60: UserWarning: Pandas requires version '1.3.6' or newer of 'bottleneck' (version '1.3.4' currently installed).\n",
      "  from pandas.core import (\n",
      "C:\\Users\\shamb\\AppData\\Local\\Temp\\ipykernel_3952\\2660331953.py:3: DeprecationWarning: `import kerastuner` is deprecated, please use `import keras_tuner`.\n",
      "  from kerastuner.tuners import RandomSearch\n"
     ]
    }
   ],
   "source": [
    "from tensorflow import keras\n",
    "from tensorflow.keras import layers\n",
    "from kerastuner.tuners import RandomSearch"
   ]
  },
  {
   "cell_type": "code",
   "execution_count": 2,
   "metadata": {
    "id": "FhQp0OQZ2jQ2"
   },
   "outputs": [],
   "source": [
    "import pandas as pd\n",
    "import numpy as np\n",
    "import seaborn as sns\n",
    "import matplotlib.pyplot as plt\n",
    "import seaborn as sns"
   ]
  },
  {
   "cell_type": "markdown",
   "metadata": {
    "id": "WmH4mhrzV3Qs"
   },
   "source": [
    "## data loading and preprocessing "
   ]
  },
  {
   "cell_type": "code",
   "execution_count": 3,
   "metadata": {
    "id": "0NbSwiH3MSUE"
   },
   "outputs": [],
   "source": [
    "df= pd.read_csv('nifty50.csv')"
   ]
  },
  {
   "cell_type": "code",
   "execution_count": 4,
   "metadata": {
    "colab": {
     "base_uri": "https://localhost:8080/",
     "height": 252
    },
    "id": "7NppxsUtzzF-",
    "outputId": "7de503aa-e280-4350-cb73-75d30b88ab9c"
   },
   "outputs": [
    {
     "data": {
      "text/plain": [
       "<bound method NDFrame.describe of             Date      Open      High       Low     Close\n",
       "0     04-03-2008   4958.55   4976.70   4812.95   4864.25\n",
       "1     05-03-2008   4866.85   4936.75   4847.25   4921.40\n",
       "2     07-03-2008   4918.30   4918.30   4672.25   4771.60\n",
       "3     10-03-2008   4767.80   4814.95   4620.50   4800.40\n",
       "4     11-03-2008   4796.30   4888.50   4732.85   4865.90\n",
       "...          ...       ...       ...       ...       ...\n",
       "3942  12-04-2024  22677.40  22726.45  22503.75  22519.40\n",
       "3943  15-04-2024  22339.05  22427.45  22259.55  22272.50\n",
       "3944  16-04-2024  22125.30  22213.75  22079.45  22147.90\n",
       "3945  18-04-2024  22212.35  22326.50  21961.70  21995.85\n",
       "3946  19-04-2024  21861.50  22179.55  21777.65  22147.00\n",
       "\n",
       "[3947 rows x 5 columns]>"
      ]
     },
     "execution_count": 4,
     "metadata": {},
     "output_type": "execute_result"
    }
   ],
   "source": [
    "df.describe"
   ]
  },
  {
   "cell_type": "code",
   "execution_count": 5,
   "metadata": {
    "colab": {
     "base_uri": "https://localhost:8080/",
     "height": 190
    },
    "id": "S2xayh6W3Eg1",
    "outputId": "b35d475c-202a-487a-95a6-de909557aca7"
   },
   "outputs": [
    {
     "data": {
      "text/html": [
       "<div>\n",
       "<style scoped>\n",
       "    .dataframe tbody tr th:only-of-type {\n",
       "        vertical-align: middle;\n",
       "    }\n",
       "\n",
       "    .dataframe tbody tr th {\n",
       "        vertical-align: top;\n",
       "    }\n",
       "\n",
       "    .dataframe thead th {\n",
       "        text-align: right;\n",
       "    }\n",
       "</style>\n",
       "<table border=\"1\" class=\"dataframe\">\n",
       "  <thead>\n",
       "    <tr style=\"text-align: right;\">\n",
       "      <th></th>\n",
       "      <th>Date</th>\n",
       "      <th>Open</th>\n",
       "      <th>High</th>\n",
       "      <th>Low</th>\n",
       "      <th>Close</th>\n",
       "    </tr>\n",
       "  </thead>\n",
       "  <tbody>\n",
       "    <tr>\n",
       "      <th>0</th>\n",
       "      <td>04-03-2008</td>\n",
       "      <td>4958.55</td>\n",
       "      <td>4976.70</td>\n",
       "      <td>4812.95</td>\n",
       "      <td>4864.25</td>\n",
       "    </tr>\n",
       "    <tr>\n",
       "      <th>1</th>\n",
       "      <td>05-03-2008</td>\n",
       "      <td>4866.85</td>\n",
       "      <td>4936.75</td>\n",
       "      <td>4847.25</td>\n",
       "      <td>4921.40</td>\n",
       "    </tr>\n",
       "    <tr>\n",
       "      <th>2</th>\n",
       "      <td>07-03-2008</td>\n",
       "      <td>4918.30</td>\n",
       "      <td>4918.30</td>\n",
       "      <td>4672.25</td>\n",
       "      <td>4771.60</td>\n",
       "    </tr>\n",
       "    <tr>\n",
       "      <th>3</th>\n",
       "      <td>10-03-2008</td>\n",
       "      <td>4767.80</td>\n",
       "      <td>4814.95</td>\n",
       "      <td>4620.50</td>\n",
       "      <td>4800.40</td>\n",
       "    </tr>\n",
       "    <tr>\n",
       "      <th>4</th>\n",
       "      <td>11-03-2008</td>\n",
       "      <td>4796.30</td>\n",
       "      <td>4888.50</td>\n",
       "      <td>4732.85</td>\n",
       "      <td>4865.90</td>\n",
       "    </tr>\n",
       "  </tbody>\n",
       "</table>\n",
       "</div>"
      ],
      "text/plain": [
       "         Date     Open     High      Low    Close\n",
       "0  04-03-2008  4958.55  4976.70  4812.95  4864.25\n",
       "1  05-03-2008  4866.85  4936.75  4847.25  4921.40\n",
       "2  07-03-2008  4918.30  4918.30  4672.25  4771.60\n",
       "3  10-03-2008  4767.80  4814.95  4620.50  4800.40\n",
       "4  11-03-2008  4796.30  4888.50  4732.85  4865.90"
      ]
     },
     "execution_count": 5,
     "metadata": {},
     "output_type": "execute_result"
    }
   ],
   "source": [
    "df.head()"
   ]
  },
  {
   "cell_type": "code",
   "execution_count": 8,
   "metadata": {
    "id": "5fd32-7BFE5o"
   },
   "outputs": [
    {
     "name": "stdout",
     "output_type": "stream",
     "text": [
      "                Open      High       Low     Close\n",
      "Date                                              \n",
      "2008-03-04   4958.55   4976.70   4812.95   4864.25\n",
      "2008-03-05   4866.85   4936.75   4847.25   4921.40\n",
      "2008-03-06   4866.85   4936.75   4847.25   4921.40\n",
      "2008-03-07   4918.30   4918.30   4672.25   4771.60\n",
      "2008-03-10   4767.80   4814.95   4620.50   4800.40\n",
      "...              ...       ...       ...       ...\n",
      "2024-04-15  22339.05  22427.45  22259.55  22272.50\n",
      "2024-04-16  22125.30  22213.75  22079.45  22147.90\n",
      "2024-04-17  22125.30  22213.75  22079.45  22147.90\n",
      "2024-04-18  22212.35  22326.50  21961.70  21995.85\n",
      "2024-04-19  21861.50  22179.55  21777.65  22147.00\n",
      "\n",
      "[4209 rows x 4 columns]\n"
     ]
    }
   ],
   "source": [
    "# Ensure 'Date' is a datetime format and set as index\n",
    "df['Date'] = pd.to_datetime(df['Date'], format='%d-%m-%Y')\n",
    "df.set_index('Date', inplace=True)\n",
    "\n",
    "# Resample to business days to ensure continuity\n",
    "df = df.resample('B').ffill()\n",
    "print(df)"
   ]
  },
  {
   "cell_type": "code",
   "execution_count": 10,
   "metadata": {
    "colab": {
     "base_uri": "https://localhost:8080/",
     "height": 50
    },
    "id": "IDdVh89bIIGY",
    "outputId": "604bf500-6cb9-4ca5-c873-ec546d1d1fc3"
   },
   "outputs": [
    {
     "name": "stdout",
     "output_type": "stream",
     "text": [
      "(4209, 4)\n",
      "Index(['Open', 'High', 'Low', 'Close'], dtype='object')\n"
     ]
    }
   ],
   "source": [
    "print(df.shape)\n",
    "print(df.columns)"
   ]
  },
  {
   "cell_type": "code",
   "execution_count": 11,
   "metadata": {
    "colab": {
     "base_uri": "https://localhost:8080/",
     "height": 219
    },
    "id": "fL8eFFeKISqC",
    "outputId": "ca6211b4-0d91-4ccf-f7f5-271e7ed78d92"
   },
   "outputs": [
    {
     "data": {
      "text/html": [
       "<div>\n",
       "<style scoped>\n",
       "    .dataframe tbody tr th:only-of-type {\n",
       "        vertical-align: middle;\n",
       "    }\n",
       "\n",
       "    .dataframe tbody tr th {\n",
       "        vertical-align: top;\n",
       "    }\n",
       "\n",
       "    .dataframe thead th {\n",
       "        text-align: right;\n",
       "    }\n",
       "</style>\n",
       "<table border=\"1\" class=\"dataframe\">\n",
       "  <thead>\n",
       "    <tr style=\"text-align: right;\">\n",
       "      <th></th>\n",
       "      <th>Open</th>\n",
       "      <th>High</th>\n",
       "      <th>Low</th>\n",
       "      <th>Close</th>\n",
       "    </tr>\n",
       "    <tr>\n",
       "      <th>Date</th>\n",
       "      <th></th>\n",
       "      <th></th>\n",
       "      <th></th>\n",
       "      <th></th>\n",
       "    </tr>\n",
       "  </thead>\n",
       "  <tbody>\n",
       "    <tr>\n",
       "      <th>2008-03-04</th>\n",
       "      <td>4958.55</td>\n",
       "      <td>4976.70</td>\n",
       "      <td>4812.95</td>\n",
       "      <td>4864.25</td>\n",
       "    </tr>\n",
       "    <tr>\n",
       "      <th>2008-03-05</th>\n",
       "      <td>4866.85</td>\n",
       "      <td>4936.75</td>\n",
       "      <td>4847.25</td>\n",
       "      <td>4921.40</td>\n",
       "    </tr>\n",
       "    <tr>\n",
       "      <th>2008-03-06</th>\n",
       "      <td>4866.85</td>\n",
       "      <td>4936.75</td>\n",
       "      <td>4847.25</td>\n",
       "      <td>4921.40</td>\n",
       "    </tr>\n",
       "    <tr>\n",
       "      <th>2008-03-07</th>\n",
       "      <td>4918.30</td>\n",
       "      <td>4918.30</td>\n",
       "      <td>4672.25</td>\n",
       "      <td>4771.60</td>\n",
       "    </tr>\n",
       "    <tr>\n",
       "      <th>2008-03-10</th>\n",
       "      <td>4767.80</td>\n",
       "      <td>4814.95</td>\n",
       "      <td>4620.50</td>\n",
       "      <td>4800.40</td>\n",
       "    </tr>\n",
       "  </tbody>\n",
       "</table>\n",
       "</div>"
      ],
      "text/plain": [
       "               Open     High      Low    Close\n",
       "Date                                          \n",
       "2008-03-04  4958.55  4976.70  4812.95  4864.25\n",
       "2008-03-05  4866.85  4936.75  4847.25  4921.40\n",
       "2008-03-06  4866.85  4936.75  4847.25  4921.40\n",
       "2008-03-07  4918.30  4918.30  4672.25  4771.60\n",
       "2008-03-10  4767.80  4814.95  4620.50  4800.40"
      ]
     },
     "execution_count": 11,
     "metadata": {},
     "output_type": "execute_result"
    }
   ],
   "source": [
    "df.head(5)"
   ]
  },
  {
   "cell_type": "markdown",
   "metadata": {
    "id": "iq8md8dG3PAE"
   },
   "source": [
    " ## data visualization and Analysation\n",
    "\n",
    " \n",
    "\n"
   ]
  },
  {
   "cell_type": "code",
   "execution_count": 14,
   "metadata": {
    "colab": {
     "base_uri": "https://localhost:8080/",
     "height": 318
    },
    "id": "eEApJxcB-vF8",
    "outputId": "8aa071ee-1792-453a-fa58-8d73369e6073"
   },
   "outputs": [
    {
     "data": {
      "text/plain": [
       "Text(0.5, 1.0, 'NIFTY50 Cumulative Returns')"
      ]
     },
     "execution_count": 14,
     "metadata": {},
     "output_type": "execute_result"
    },
    {
     "data": {
      "text/plain": [
       "<Figure size 1440x1440 with 0 Axes>"
      ]
     },
     "metadata": {},
     "output_type": "display_data"
    },
    {
     "data": {
      "image/png": "[encoded data removed]",
      "text/plain": [
       "<Figure size 432x288 with 1 Axes>"
      ]
     },
     "metadata": {
      "needs_background": "light"
     },
     "output_type": "display_data"
    }
   ],
   "source": [
    "# Comulative Return\n",
    "plt.figure(figsize=(20,20))\n",
    "dr = df.cumsum()\n",
    "dr.plot()\n",
    "plt.title('NIFTY50 Cumulative Returns')"
   ]
  },
  {
   "cell_type": "code",
   "execution_count": 16,
   "metadata": {
    "colab": {
     "base_uri": "https://localhost:8080/",
     "height": 619
    },
    "id": "TD8cJOhF5z_R",
    "outputId": "63cdb0ae-2342-4b44-8092-a69bdd81732e"
   },
   "outputs": [
    {
     "data": {
      "text/plain": [
       "<AxesSubplot:ylabel='Date'>"
      ]
     },
     "execution_count": 16,
     "metadata": {},
     "output_type": "execute_result"
    },
    {
     "data": {
      "image/png": "[encoded data removed]",
      "text/plain": [
       "<Figure size 720x720 with 2 Axes>"
      ]
     },
     "metadata": {
      "needs_background": "light"
     },
     "output_type": "display_data"
    }
   ],
   "source": [
    "#drawing the heat map \n",
    "plt.figure(figsize=(10,10))\n",
    "sns.heatmap(df[:100],   robust=False,\n",
    "                annot=None, fmt='.2g', annot_kws=None, linewidths=0, linecolor='white', cbar=True, \n",
    "                 square=False, xticklabels='auto', yticklabels='auto', mask=None, ax=None)"
   ]
  },
  {
   "cell_type": "code",
   "execution_count": 17,
   "metadata": {
    "colab": {
     "base_uri": "https://localhost:8080/",
     "height": 840
    },
    "id": "v33PNbI7y_cF",
    "outputId": "9bbdeb6e-6880-4417-b698-f4d67e9d6bf1"
   },
   "outputs": [
    {
     "data": {
      "text/plain": [
       "(array([[0., 0., 1., 0., 1., 2., 0., 4., 2., 0.],\n",
       "        [0., 0., 0., 0., 1., 1., 1., 2., 3., 2.],\n",
       "        [1., 1., 2., 1., 1., 0., 4., 0., 0., 0.],\n",
       "        [1., 0., 1., 0., 1., 2., 0., 3., 2., 0.]]),\n",
       " array([4482.1 , 4535.81, 4589.52, 4643.23, 4696.94, 4750.65, 4804.36,\n",
       "        4858.07, 4911.78, 4965.49, 5019.2 ]),\n",
       " <a list of 4 BarContainer objects>)"
      ]
     },
     "execution_count": 17,
     "metadata": {},
     "output_type": "execute_result"
    },
    {
     "data": {
      "image/png": "[encoded data removed]",
      "text/plain": [
       "<Figure size 720x720 with 1 Axes>"
      ]
     },
     "metadata": {
      "needs_background": "light"
     },
     "output_type": "display_data"
    }
   ],
   "source": [
    "# histogram\n",
    "plt.figure(figsize=(10,10))\n",
    "plt.hist(df[:10],\n",
    "            bottom=None,\n",
    "            histtype='bar',\n",
    "            align='mid', orientation='vertical', rwidth=None)"
   ]
  },
  {
   "cell_type": "markdown",
   "metadata": {
    "id": "ODMVKl4eV96L"
   },
   "source": [
    "#data splitting and feature engineering"
   ]
  },
  {
   "cell_type": "markdown",
   "metadata": {
    "id": "hm4nMTyoVvRM"
   },
   "source": [
    "#now we will start the preprocessing of the data"
   ]
  },
  {
   "cell_type": "markdown",
   "metadata": {
    "id": "dNnTet1SxTI0"
   },
   "source": []
  },
  {
   "cell_type": "code",
   "execution_count": 18,
   "metadata": {
    "id": "PHONrgEMVDcA"
   },
   "outputs": [],
   "source": [
    "#LSTM is very sensitive neural network so we have to normalize the data set in the same range\n",
    "from sklearn.preprocessing import MinMaxScaler\n",
    "scaler = MinMaxScaler(feature_range=(0,1))\n",
    "df=scaler.fit_transform(df)\n",
    "#class sklearn.preprocessing.MinMaxScaler(feature_range=(0, 1), *, copy=True)\n",
    "#caler=MinMaxScaler(feature_range=(0,1))\n",
    "#df1=scaler.fit_transform(np.array(df).reshape(-1,1))"
   ]
  },
  {
   "cell_type": "markdown",
   "metadata": {
    "id": "LuRf_yPIxVm7"
   },
   "source": []
  },
  {
   "cell_type": "code",
   "execution_count": 19,
   "metadata": {
    "colab": {
     "base_uri": "https://localhost:8080/",
     "height": 33
    },
    "id": "Ly5sZ063LLpd",
    "outputId": "52f29837-7195-4e3f-a547-4da82d98a53d"
   },
   "outputs": [
    {
     "data": {
      "text/plain": [
       "(4209, 4)"
      ]
     },
     "execution_count": 19,
     "metadata": {},
     "output_type": "execute_result"
    }
   ],
   "source": [
    "df.shape"
   ]
  },
  {
   "cell_type": "code",
   "execution_count": 20,
   "metadata": {
    "id": "I3UgdsE-FkX1"
   },
   "outputs": [],
   "source": [
    "#splitting the dataset into test train \n",
    "train=df[0:3000]\n",
    "test =df[3500:]\n",
    "#validate=df[2500:2999]"
   ]
  },
  {
   "cell_type": "code",
   "execution_count": 21,
   "metadata": {
    "colab": {
     "base_uri": "https://localhost:8080/",
     "height": 50
    },
    "id": "9S0gt6zk_R74",
    "outputId": "afe1beb8-dc93-42ef-e0f7-36493e674cca"
   },
   "outputs": [
    {
     "name": "stdout",
     "output_type": "stream",
     "text": [
      "(709, 4)\n",
      "(3000, 4)\n"
     ]
    }
   ],
   "source": [
    "print(test.shape)\n",
    "print(train.shape)"
   ]
  },
  {
   "cell_type": "code",
   "execution_count": 22,
   "metadata": {
    "colab": {
     "base_uri": "https://localhost:8080/",
     "height": 826
    },
    "id": "VmQg5QYbOX2e",
    "outputId": "a8fbf4a7-0607-48c7-ce06-3f8d449f7f6f"
   },
   "outputs": [
    {
     "data": {
      "text/plain": [
       "(array([[144., 116., 663., 644.,  77., 398., 341., 150., 325., 142.],\n",
       "        [145., 120., 694., 609.,  77., 412., 328., 154., 319., 142.],\n",
       "        [147., 128., 649., 641.,  79., 392., 344., 152., 325., 143.],\n",
       "        [145., 119., 668., 635.,  77., 395., 341., 151., 326., 143.]]),\n",
       " array([0.        , 0.04740878, 0.09481757, 0.14222635, 0.18963514,\n",
       "        0.23704392, 0.28445271, 0.33186149, 0.37927028, 0.42667906,\n",
       "        0.47408785]),\n",
       " <a list of 4 BarContainer objects>)"
      ]
     },
     "execution_count": 22,
     "metadata": {},
     "output_type": "execute_result"
    },
    {
     "data": {
      "image/png": "[encoded data removed]",
      "text/plain": [
       "<Figure size 720x720 with 1 Axes>"
      ]
     },
     "metadata": {
      "needs_background": "light"
     },
     "output_type": "display_data"
    }
   ],
   "source": [
    "plt.figure(figsize=(10,10))\n",
    "plt.hist(train,\n",
    "            bottom=None,\n",
    "            histtype='bar',\n",
    "            align='mid', orientation='vertical', rwidth=None)"
   ]
  },
  {
   "cell_type": "code",
   "execution_count": 23,
   "metadata": {
    "colab": {
     "base_uri": "https://localhost:8080/",
     "height": 759
    },
    "id": "xi9CEy9TOa_q",
    "outputId": "04b2e3cd-649b-41ee-c6fc-eb5fb31cbf44"
   },
   "outputs": [
    {
     "data": {
      "text/plain": [
       "(array([[ 28.,  63., 145., 190.,  73.,  82.,  28.,  11.,  50.,  39.],\n",
       "        [ 23.,  65., 131., 202.,  77.,  77.,  34.,   9.,  43.,  48.],\n",
       "        [ 27.,  68., 137., 195.,  72.,  74.,  36.,  11.,  45.,  44.],\n",
       "        [ 23.,  68., 127., 200.,  81.,  72.,  38.,   9.,  43.,  48.]]),\n",
       " array([0.62979954, 0.66681959, 0.70383964, 0.74085968, 0.77787973,\n",
       "        0.81489977, 0.85191982, 0.88893986, 0.92595991, 0.96297995,\n",
       "        1.        ]),\n",
       " <a list of 4 BarContainer objects>)"
      ]
     },
     "execution_count": 23,
     "metadata": {},
     "output_type": "execute_result"
    },
    {
     "data": {
      "image/png": "[encoded data removed]",
      "text/plain": [
       "<Figure size 720x720 with 1 Axes>"
      ]
     },
     "metadata": {
      "needs_background": "light"
     },
     "output_type": "display_data"
    }
   ],
   "source": [
    "plt.figure(figsize=(10,10))\n",
    "plt.hist(test,\n",
    "            bottom=None,\n",
    "            histtype='bar',\n",
    "            align='mid', orientation='vertical', rwidth=None)"
   ]
  },
  {
   "cell_type": "code",
   "execution_count": 169,
   "metadata": {
    "id": "RUbPSdl7Ay3i"
   },
   "outputs": [],
   "source": [
    "#scaled_train_samples=scaler.fit_transform(train)\n",
    "#scaled_test_samples=scaler.fit_transform(test) "
   ]
  },
  {
   "cell_type": "code",
   "execution_count": 24,
   "metadata": {
    "id": "jj-FehrkNHTE"
   },
   "outputs": [],
   "source": [
    "import numpy as np\n",
    "def create_dataset(dataset,time_stamp =1):\n",
    "  X, Y = [], []\n",
    "  for i in range(len(dataset)-time_stamp-1):\n",
    "    a= dataset[i:(i+time_stamp),0]\n",
    "    X.append(a)\n",
    "    Y.append(df[i+time_stamp,0])\n",
    "  return np.array(X),np.array(Y)\n"
   ]
  },
  {
   "cell_type": "code",
   "execution_count": 25,
   "metadata": {
    "id": "kjH6D-vZOrO-"
   },
   "outputs": [],
   "source": [
    "time_stamp=100\n",
    "x_train, y_train=create_dataset(train,time_stamp)\n",
    "x_test, y_test = create_dataset(test, time_stamp)"
   ]
  },
  {
   "cell_type": "code",
   "execution_count": 26,
   "metadata": {
    "colab": {
     "base_uri": "https://localhost:8080/",
     "height": 84
    },
    "id": "wdnTYfDQzI_I",
    "outputId": "e9859694-f48e-41ea-b2d7-e155c57de2a5"
   },
   "outputs": [
    {
     "name": "stdout",
     "output_type": "stream",
     "text": [
      "(2899, 100)\n",
      "(608, 100)\n",
      "[0.08064915 0.08500956 0.09634911 ... 0.42369398 0.41849359 0.41808596]\n",
      "[0.08064915 0.08500956 0.09634911 0.09634911 0.08676608 0.0892341\n",
      " 0.08226732 0.08835213 0.08920445 0.09387368 0.09237656 0.09783387\n",
      " 0.09827856 0.09827856 0.09897524 0.10350118 0.0998992  0.0998992\n",
      " 0.0998992  0.09410096 0.09224316 0.09087697 0.09338452 0.09338452\n",
      " 0.08853001 0.08938233 0.08946385 0.08718606 0.08421406 0.09041499\n",
      " 0.09041499 0.09055087 0.09816492 0.0947927  0.09052369 0.09679133\n",
      " 0.09591924 0.09244821 0.09244821 0.08428077 0.07640484 0.07651602\n",
      " 0.07307956 0.07307956 0.08512073 0.08388302 0.07903345 0.08083196\n",
      " 0.08083196 0.07233595 0.06534446 0.06534446 0.06895879 0.07052508\n",
      " 0.06379299 0.05339964 0.05327365 0.05327365 0.04821655 0.0368943\n",
      " 0.04782375 0.0489997  0.03990582 0.03670407 0.0287565  0.02960635\n",
      " 0.03500684 0.02661212 0.02661212 0.02661212 0.         0.\n",
      " 0.0078611  0.00840461 0.017748   0.02589321 0.03110594 0.02333378\n",
      " 0.01813587 0.02209112 0.03068349 0.03068349 0.02034201 0.02034201\n",
      " 0.01419049 0.01364946 0.0077351  0.00533626 0.00533626 0.00813532\n",
      " 0.00899752 0.00899752 0.00623799 0.00623799 0.01131237 0.00724842\n",
      " 0.00648751 0.0064381  0.01286878 0.00931375 0.00931375 0.01282184\n",
      " 0.02015179 0.01922782 0.01935382 0.02260004 0.02540899 0.02120422\n",
      " 0.02652318 0.02722727 0.0253497  0.0217996  0.0217996  0.01945017\n",
      " 0.01635217 0.01958357 0.02241229 0.02159702 0.02511994 0.02631319\n",
      " 0.02941365 0.02898379 0.02898379 0.01945511 0.01693027 0.01229316\n",
      " 0.01097886 0.01512434 0.01041559 0.01494646 0.01564808 0.01241174\n",
      " 0.00931375 0.00885671 0.00885671 0.00789816 0.01210046 0.01596678\n",
      " 0.01471671 0.0171032  0.01221904 0.01257479 0.01366428 0.01250809\n",
      " 0.0156555  0.01944276 0.02009991 0.01982321 0.01831868 0.02085341\n",
      " 0.01618912 0.01131237 0.01237715 0.01299972 0.01299972 0.01042794\n",
      " 0.01024018 0.01166071 0.01282184 0.0117793  0.00721136 0.00423689\n",
      " 0.00591435 0.00249767 0.00463958 0.00463958 0.00463958 0.00238649\n",
      " 0.00446665 0.00938045 0.01235986 0.0114359  0.01338264 0.01389157\n",
      " 0.01388662 0.01964534 0.02038648 0.02253334 0.0273335  0.02878368\n",
      " 0.02250616 0.02458879 0.02642683 0.02642683 0.03385312 0.03385312\n",
      " 0.03602716 0.04050615 0.04050615 0.0403184  0.0403184  0.04225773\n",
      " 0.047342   0.04166728 0.04242078 0.04203045 0.04142518 0.0397403\n",
      " 0.04434035 0.0471913  0.04660826 0.04177352 0.04177352 0.04177352\n",
      " 0.04706283 0.05624318 0.05611965 0.05390362 0.05709796 0.05383445\n",
      " 0.05081551 0.05645317 0.05463242 0.05295001 0.05667057 0.08887588\n",
      " 0.08856954 0.0861781  0.08328763 0.08458464 0.08465628 0.07861593\n",
      " 0.08646468 0.08965655 0.09507434 0.09902959 0.09878501 0.09902218\n",
      " 0.1011468  0.10159396 0.09395521 0.10007955 0.10530217 0.10432138\n",
      " 0.1017076  0.09644299 0.0982835  0.09025935 0.08522696 0.08834472\n",
      " 0.08385337 0.08503921 0.08733923 0.08487368 0.0913686  0.0921641\n",
      " 0.08726265 0.09127472 0.08998019 0.09404661 0.08102219 0.08279353\n",
      " 0.07671118 0.07684212 0.07298816 0.07154045 0.07878887 0.08386325\n",
      " 0.08425606 0.09149213 0.09759918 0.09600818 0.09306336 0.09875043\n",
      " 0.10091705 0.1011221  0.10077623 0.09817233 0.1010628  0.10413609\n",
      " 0.10771583 0.10646577 0.10712786 0.10206582 0.09685803 0.09431343\n",
      " 0.09623053 0.09547703 0.1027205  0.10141856 0.09206528 0.0954375\n",
      " 0.09230492 0.09522504 0.09935076 0.10452396 0.10540346 0.10636942\n",
      " 0.10683387 0.10893132 0.10553933 0.10365188 0.10289838 0.10289591\n",
      " 0.10653741 0.11150063 0.11259011 0.11305703 0.11330655 0.11384759\n",
      " 0.11276057 0.11702464 0.12018193 0.12044874 0.12044874 0.12109848\n",
      " 0.12321569 0.12110095 0.12149376 0.12149376 0.12021157 0.12260795\n",
      " 0.1265385  0.1265385  0.12598758 0.12241031 0.12379625 0.12278582\n",
      " 0.12188409 0.11953466 0.11953466 0.12491539 0.12808749 0.12759834\n",
      " 0.12759834 0.12942403 0.12790468 0.12536007 0.1215654  0.12208915\n",
      " 0.12077484 0.11464803 0.1136376  0.10993186 0.10993186 0.10801229\n",
      " 0.10085034 0.10798265 0.11074218 0.11215778 0.11723463 0.11641443\n",
      " 0.12244737 0.11987559 0.12205703 0.12514267 0.12526867 0.12440152\n",
      " 0.1216741  0.12484621 0.12741799 0.12675343 0.12798373 0.12247948\n",
      " 0.11937655 0.12419153 0.12829502 0.12838395 0.12873723 0.12760822\n",
      " 0.125617   0.12952532 0.12778362 0.12895217 0.12803314 0.12745505\n",
      " 0.12385802 0.12453493 0.12430517 0.12142211 0.119925   0.12173834\n",
      " 0.1293845  0.1293845  0.1293845  0.13116078 0.13155606 0.13068892\n",
      " 0.13068892 0.13215639 0.13592389 0.1359733  0.13615364 0.1352865\n",
      " 0.13526427 0.13463676 0.13273449 0.13381656 0.13507157 0.13476276\n",
      " 0.13577813 0.13340152 0.13311    0.1268819  0.12393707 0.12393707\n",
      " 0.12264995 0.11546082 0.11561646 0.11640208 0.11767685 0.11387971\n",
      " 0.11883551 0.11331891 0.11014186 0.11039879 0.11200213 0.11023573\n",
      " 0.11023573 0.11372654 0.11243694 0.11524589 0.11803507 0.11666148\n",
      " 0.11478638 0.1151446  0.11578445 0.11526318 0.11523848 0.11523848\n",
      " 0.11904797 0.12301064 0.12702024 0.12620992 0.12678308 0.12821102\n",
      " 0.12725    0.12797879 0.12874217 0.12887311 0.12860136 0.13203534\n",
      " 0.13372021 0.1344243  0.13512345 0.13240097 0.13240097 0.13336199\n",
      " 0.13510369 0.13625741 0.13719866 0.13509627 0.13454289 0.13454289\n",
      " 0.13662798 0.1404943  0.14029913 0.14082287 0.13717149 0.13972844\n",
      " 0.13907129 0.13907129 0.13820415 0.1357386  0.13601777 0.13252202\n",
      " 0.13360904 0.13451324 0.13555332 0.13702079 0.13814486 0.13745806\n",
      " 0.13286542 0.13478993 0.13598565 0.13329282 0.12955991 0.12837654\n",
      " 0.12580229 0.12354426 0.13160547 0.12883852 0.13001448 0.1311509\n",
      " 0.12686954 0.12517232 0.12544654 0.11848964 0.11959642 0.11947784\n",
      " 0.11952725 0.11270869 0.11803754 0.12250666 0.12599005 0.12649156\n",
      " 0.12078473 0.12322557 0.12779351 0.128799   0.1240433  0.12149129\n",
      " 0.1222102  0.12612098 0.12816655 0.13217616 0.13334964 0.13377456\n",
      " 0.13581519 0.13539767 0.13971856 0.13785087 0.13820168 0.1380658\n",
      " 0.13562496 0.1387106  0.1347924  0.13764829 0.13464418 0.13394009\n",
      " 0.13389562 0.13671198 0.13418713 0.13691456 0.13963457 0.14052147\n",
      " 0.1420927  0.1413565  0.14084016 0.14163319 0.14135156 0.14045477\n",
      " 0.14195188 0.14406415 0.14429391 0.14299196 0.14377758 0.14188765\n",
      " 0.14240893 0.14048935 0.1435997  0.14403698 0.14545998 0.14437791\n",
      " 0.14396039 0.14628265 0.14499306 0.14291785 0.1430142  0.14456813\n",
      " 0.14308831 0.14279679 0.1458602  0.14895078 0.14847398 0.14896561\n",
      " 0.14719674 0.14506223 0.146421   0.14243363 0.14266339 0.14214458\n",
      " 0.14554645 0.14625795 0.14592443 0.15068507 0.15208583 0.15228594\n",
      " 0.15228594 0.15381271 0.15979623 0.16152311 0.16477674 0.16317586\n",
      " 0.16596011 0.17067627 0.17205481 0.17119755 0.1696362  0.17254396\n",
      " 0.17342099 0.17308006 0.17121237 0.17313688 0.17878936 0.17951816\n",
      " 0.17909817 0.18087198 0.17763811 0.17687473 0.17835703 0.17615829\n",
      " 0.18321648 0.18033095 0.17721072 0.17729471 0.17178552 0.17207951\n",
      " 0.17724283 0.17664251 0.17738612 0.17536773 0.17361368 0.17268478\n",
      " 0.17620029 0.17794198 0.17908088 0.18199606 0.18754231 0.1882044\n",
      " 0.18552392 0.18662081 0.18578826 0.18064717 0.17558761 0.1787276\n",
      " 0.1787276  0.17539244]\n"
     ]
    }
   ],
   "source": [
    "print(x_train.shape)\n",
    "print(x_test.shape)\n",
    "print(y_train)\n",
    "print(y_test)"
   ]
  },
  {
   "cell_type": "markdown",
   "metadata": {
    "id": "BWzizhfHC1TY"
   },
   "source": [
    "# start building the model"
   ]
  },
  {
   "cell_type": "code",
   "execution_count": 27,
   "metadata": {
    "id": "ZIFzkpj6C6lA"
   },
   "outputs": [],
   "source": [
    "import tensorflow as tf\n",
    "from tensorflow import keras\n",
    "from tensorflow.keras import layers\n",
    "from tensorflow.keras.models import Sequential\n",
    "from tensorflow.keras.layers import Dense\n",
    "from tensorflow.keras.layers import LSTM"
   ]
  },
  {
   "cell_type": "code",
   "execution_count": 28,
   "metadata": {
    "colab": {
     "base_uri": "https://localhost:8080/",
     "height": 268
    },
    "id": "v0igAEZZ7qCT",
    "outputId": "f7e66eba-ce03-4eb0-e867-742c78b1b620"
   },
   "outputs": [
    {
     "name": "stdout",
     "output_type": "stream",
     "text": [
      "[[0.66334386 0.67538503 0.68001472 ... 0.73357742 0.72878467 0.70646379]\n",
      " [0.67538503 0.68001472 0.68077811 ... 0.72878467 0.70646379 0.70393895]\n",
      " [0.68001472 0.68077811 0.67963921 ... 0.70646379 0.70393895 0.70850441]\n",
      " ...\n",
      " [0.85570115 0.8622183  0.86873793 ... 1.         0.99566676 0.97894895]\n",
      " [0.8622183  0.86873793 0.8729674  ... 0.99566676 0.97894895 0.96838761]\n",
      " [0.86873793 0.8729674  0.89311919 ... 0.97894895 0.96838761 0.96838761]]\n",
      "[[0.12018193 0.11565105 0.11565105 ... 0.06408204 0.06408204 0.07737575]\n",
      " [0.11565105 0.11565105 0.11819318 ... 0.06408204 0.07737575 0.08064915]\n",
      " [0.11565105 0.11819318 0.11075701 ... 0.07737575 0.08064915 0.08500956]\n",
      " ...\n",
      " [0.45064949 0.44796654 0.44896956 ... 0.40384606 0.41870359 0.42395338]\n",
      " [0.44796654 0.44896956 0.4516451  ... 0.41870359 0.42395338 0.42369398]\n",
      " [0.44896956 0.4516451  0.45506426 ... 0.42395338 0.42369398 0.41849359]]\n",
      "(2899, 100)\n"
     ]
    }
   ],
   "source": [
    "print(x_test)\n",
    "print(x_train)\n",
    "print(x_train.shape)"
   ]
  },
  {
   "cell_type": "code",
   "execution_count": 29,
   "metadata": {
    "id": "1pPv7hjOYzpR"
   },
   "outputs": [],
   "source": [
    "x_train =x_train.reshape(x_train.shape[0],x_train.shape[1] , 1)\n",
    "x_test = x_test.reshape(x_test.shape[0],x_test.shape[1] , 1)"
   ]
  },
  {
   "cell_type": "code",
   "execution_count": 30,
   "metadata": {
    "colab": {
     "base_uri": "https://localhost:8080/",
     "height": 50
    },
    "id": "mH8BYTnbVVjC",
    "outputId": "39d57c2b-541f-459a-8a03-3e614ca6447d"
   },
   "outputs": [
    {
     "name": "stdout",
     "output_type": "stream",
     "text": [
      "(2899, 100, 1)\n",
      "(2899,)\n"
     ]
    }
   ],
   "source": [
    "print(x_train.shape)\n",
    "print(y_train.shape)"
   ]
  },
  {
   "cell_type": "code",
   "execution_count": 31,
   "metadata": {
    "colab": {
     "base_uri": "https://localhost:8080/",
     "height": 50
    },
    "id": "zLZB8E8d42oG",
    "outputId": "79d44399-0cf2-4687-82da-2af28a24ae22"
   },
   "outputs": [
    {
     "name": "stdout",
     "output_type": "stream",
     "text": [
      "(608, 100, 1)\n",
      "(608,)\n"
     ]
    }
   ],
   "source": [
    "print(x_test.shape)\n",
    "print(y_test.shape)"
   ]
  },
  {
   "cell_type": "code",
   "execution_count": 32,
   "metadata": {
    "id": "jYZw5RG3Y1EI"
   },
   "outputs": [],
   "source": [
    "model=Sequential()\n",
    "model.add(LSTM(100,return_sequences=True,input_shape=(100,1)))\n",
    "model.add(LSTM(100,return_sequences=True))\n",
    "model.add(LSTM(50,return_sequences=False))\n",
    "model.add(Dense(1))\n",
    "model.compile(loss='mean_squared_error',optimizer='adam')\n"
   ]
  },
  {
   "cell_type": "code",
   "execution_count": 33,
   "metadata": {
    "colab": {
     "base_uri": "https://localhost:8080/",
     "height": 285
    },
    "id": "EgeHTpyMUUNx",
    "outputId": "d5ee5d70-052f-4457-e31f-40105974c362"
   },
   "outputs": [
    {
     "name": "stdout",
     "output_type": "stream",
     "text": [
      "Model: \"sequential\"\n",
      "_________________________________________________________________\n",
      " Layer (type)                Output Shape              Param #   \n",
      "=================================================================\n",
      " lstm (LSTM)                 (None, 100, 100)          40800     \n",
      "                                                                 \n",
      " lstm_1 (LSTM)               (None, 100, 100)          80400     \n",
      "                                                                 \n",
      " lstm_2 (LSTM)               (None, 50)                30200     \n",
      "                                                                 \n",
      " dense (Dense)               (None, 1)                 51        \n",
      "                                                                 \n",
      "=================================================================\n",
      "Total params: 151,451\n",
      "Trainable params: 151,451\n",
      "Non-trainable params: 0\n",
      "_________________________________________________________________\n"
     ]
    }
   ],
   "source": [
    "model.summary()"
   ]
  },
  {
   "cell_type": "code",
   "execution_count": 34,
   "metadata": {
    "colab": {
     "base_uri": "https://localhost:8080/",
     "height": 1000
    },
    "id": "XVD3Gch75eUo",
    "outputId": "4274701e-0d6a-4c5b-c908-8e6f78b9e024"
   },
   "outputs": [
    {
     "name": "stdout",
     "output_type": "stream",
     "text": [
      "Epoch 1/50\n",
      "164/164 [==============================] - 44s 197ms/step - loss: 6.5196e-04 - val_loss: 5.4943e-04\n",
      "Epoch 2/50\n",
      "164/164 [==============================] - 32s 194ms/step - loss: 0.0018 - val_loss: 5.9967e-04\n",
      "Epoch 3/50\n",
      "164/164 [==============================] - 29s 174ms/step - loss: 0.0031 - val_loss: 5.0900e-04\n",
      "Epoch 4/50\n",
      "164/164 [==============================] - 28s 173ms/step - loss: 0.0030 - val_loss: 0.0011\n",
      "Epoch 5/50\n",
      "164/164 [==============================] - 32s 198ms/step - loss: 0.0034 - val_loss: 5.9522e-04\n",
      "Epoch 6/50\n",
      "164/164 [==============================] - 30s 181ms/step - loss: 0.0036 - val_loss: 6.2119e-04\n",
      "Epoch 7/50\n",
      "164/164 [==============================] - 32s 193ms/step - loss: 0.0039 - val_loss: 7.2567e-04\n",
      "Epoch 8/50\n",
      "164/164 [==============================] - 28s 171ms/step - loss: 0.0036 - val_loss: 6.1346e-04\n",
      "Epoch 9/50\n",
      "164/164 [==============================] - 28s 173ms/step - loss: 0.0036 - val_loss: 6.1874e-04\n",
      "Epoch 10/50\n",
      "164/164 [==============================] - 27s 164ms/step - loss: 0.0040 - val_loss: 9.0647e-04\n",
      "Epoch 11/50\n",
      "164/164 [==============================] - 27s 165ms/step - loss: 0.0050 - val_loss: 0.0014\n",
      "Epoch 12/50\n",
      "164/164 [==============================] - 31s 188ms/step - loss: 0.0059 - val_loss: 0.0021\n",
      "Epoch 13/50\n",
      "164/164 [==============================] - 35s 213ms/step - loss: 0.0065 - val_loss: 5.9310e-04\n",
      "Epoch 14/50\n",
      "164/164 [==============================] - 32s 196ms/step - loss: 0.0062 - val_loss: 5.4532e-04\n",
      "Epoch 15/50\n",
      "164/164 [==============================] - 34s 209ms/step - loss: 0.0066 - val_loss: 0.0013\n",
      "Epoch 16/50\n",
      "164/164 [==============================] - 29s 177ms/step - loss: 0.0068 - val_loss: 0.0030\n",
      "Epoch 17/50\n",
      "164/164 [==============================] - 28s 173ms/step - loss: 0.0069 - val_loss: 4.6146e-04\n",
      "Epoch 18/50\n",
      "164/164 [==============================] - 28s 174ms/step - loss: 0.0063 - val_loss: 0.0016\n",
      "Epoch 19/50\n",
      "164/164 [==============================] - 32s 194ms/step - loss: 0.0047 - val_loss: 1.4822e-04\n",
      "Epoch 20/50\n",
      "164/164 [==============================] - 32s 194ms/step - loss: 0.0026 - val_loss: 9.1632e-05\n",
      "Epoch 21/50\n",
      "164/164 [==============================] - 28s 173ms/step - loss: 0.0013 - val_loss: 7.7033e-05\n",
      "Epoch 22/50\n",
      "164/164 [==============================] - 28s 170ms/step - loss: 6.1137e-04 - val_loss: 7.6121e-05\n",
      "Epoch 23/50\n",
      "164/164 [==============================] - 28s 169ms/step - loss: 4.5639e-04 - val_loss: 7.9940e-05\n",
      "Epoch 24/50\n",
      "164/164 [==============================] - 32s 193ms/step - loss: 3.4816e-04 - val_loss: 8.3385e-05\n",
      "Epoch 25/50\n",
      "164/164 [==============================] - 33s 202ms/step - loss: 2.6732e-04 - val_loss: 8.6010e-05\n",
      "Epoch 26/50\n",
      "164/164 [==============================] - 27s 162ms/step - loss: 2.0779e-04 - val_loss: 8.7227e-05\n",
      "Epoch 27/50\n",
      "164/164 [==============================] - 38s 231ms/step - loss: 1.6450e-04 - val_loss: 8.6091e-05\n",
      "Epoch 28/50\n",
      "164/164 [==============================] - 43s 265ms/step - loss: 1.3383e-04 - val_loss: 8.0697e-05\n",
      "Epoch 29/50\n",
      "164/164 [==============================] - 34s 208ms/step - loss: 1.1219e-04 - val_loss: 7.3693e-05\n",
      "Epoch 30/50\n",
      "164/164 [==============================] - 31s 191ms/step - loss: 9.6648e-05 - val_loss: 7.4732e-05\n",
      "Epoch 31/50\n",
      "164/164 [==============================] - 44s 272ms/step - loss: 8.5827e-05 - val_loss: 7.9381e-05\n",
      "Epoch 32/50\n",
      "164/164 [==============================] - 29s 176ms/step - loss: 8.0124e-05 - val_loss: 8.0988e-05\n",
      "Epoch 33/50\n",
      "164/164 [==============================] - 27s 167ms/step - loss: 7.8535e-05 - val_loss: 8.1697e-05\n",
      "Epoch 34/50\n",
      "164/164 [==============================] - 33s 199ms/step - loss: 7.9376e-05 - val_loss: 8.2171e-05\n",
      "Epoch 35/50\n",
      "164/164 [==============================] - 40s 240ms/step - loss: 8.2891e-05 - val_loss: 8.2881e-05\n",
      "Epoch 36/50\n",
      "164/164 [==============================] - 34s 206ms/step - loss: 8.9197e-05 - val_loss: 8.4037e-05\n",
      "Epoch 37/50\n",
      "164/164 [==============================] - 29s 176ms/step - loss: 9.8193e-05 - val_loss: 8.5478e-05\n",
      "Epoch 38/50\n",
      "164/164 [==============================] - 27s 165ms/step - loss: 1.0892e-04 - val_loss: 8.6941e-05\n",
      "Epoch 39/50\n",
      "164/164 [==============================] - 28s 170ms/step - loss: 1.1920e-04 - val_loss: 8.7964e-05\n",
      "Epoch 40/50\n",
      "164/164 [==============================] - 27s 166ms/step - loss: 1.2593e-04 - val_loss: 8.8444e-05\n",
      "Epoch 41/50\n",
      "164/164 [==============================] - 28s 171ms/step - loss: 1.2641e-04 - val_loss: 8.8921e-05\n",
      "Epoch 42/50\n",
      "164/164 [==============================] - 37s 226ms/step - loss: 1.2011e-04 - val_loss: 9.0336e-05\n",
      "Epoch 43/50\n",
      "164/164 [==============================] - 33s 201ms/step - loss: 1.0905e-04 - val_loss: 9.3064e-05\n",
      "Epoch 44/50\n",
      "164/164 [==============================] - 35s 211ms/step - loss: 9.6501e-05 - val_loss: 9.6409e-05\n",
      "Epoch 45/50\n",
      "164/164 [==============================] - 31s 190ms/step - loss: 8.5389e-05 - val_loss: 9.9250e-05\n",
      "Epoch 46/50\n",
      "164/164 [==============================] - 35s 215ms/step - loss: 7.7477e-05 - val_loss: 1.0106e-04\n",
      "Epoch 47/50\n",
      "164/164 [==============================] - 29s 176ms/step - loss: 7.3325e-05 - val_loss: 1.0215e-04\n",
      "Epoch 48/50\n",
      "164/164 [==============================] - 30s 182ms/step - loss: 7.2906e-05 - val_loss: 1.0337e-04\n",
      "Epoch 49/50\n",
      "164/164 [==============================] - 29s 175ms/step - loss: 7.5959e-05 - val_loss: 1.0575e-04\n",
      "Epoch 50/50\n",
      "164/164 [==============================] - 35s 211ms/step - loss: 8.1991e-05 - val_loss: 1.1031e-04\n"
     ]
    }
   ],
   "source": [
    "history=model.fit(\n",
    "    x_train,y_train,\n",
    "    validation_split=0.1,\n",
    "    shuffle=False, \n",
    "    epochs=50,batch_size=16,verbose=1)"
   ]
  },
  {
   "cell_type": "code",
   "execution_count": 35,
   "metadata": {
    "colab": {
     "base_uri": "https://localhost:8080/",
     "height": 282
    },
    "id": "n7tGwwFMD0K2",
    "outputId": "bbc4845e-f9b0-470e-aebe-876022eda217"
   },
   "outputs": [
    {
     "data": {
      "text/plain": [
       "<matplotlib.legend.Legend at 0x20f9fcef070>"
      ]
     },
     "execution_count": 35,
     "metadata": {},
     "output_type": "execute_result"
    },
    {
     "data": {
      "image/png": "[encoded data removed]",
      "text/plain": [
       "<Figure size 432x288 with 1 Axes>"
      ]
     },
     "metadata": {
      "needs_background": "light"
     },
     "output_type": "display_data"
    }
   ],
   "source": [
    "plt.plot(history.history['loss'],label='train')\n",
    "plt.plot(history.history['val_loss'],label='validation')\n",
    "plt.legend()"
   ]
  },
  {
   "cell_type": "code",
   "execution_count": 36,
   "metadata": {
    "id": "iKg7xz_Ne6pm"
   },
   "outputs": [
    {
     "name": "stdout",
     "output_type": "stream",
     "text": [
      "91/91 [==============================] - 10s 81ms/step\n",
      "19/19 [==============================] - 2s 81ms/step\n"
     ]
    }
   ],
   "source": [
    "### Lets Do the prediction and check performance metrics\n",
    "train_predict=model.predict(x_train)\n",
    "test_predict=model.predict(x_test)"
   ]
  },
  {
   "cell_type": "code",
   "execution_count": 37,
   "metadata": {
    "colab": {
     "base_uri": "https://localhost:8080/",
     "height": 33
    },
    "id": "Q-7eqGOlwz1B",
    "outputId": "99c6cdb0-0b07-41a7-ada4-14fa89f34c72"
   },
   "outputs": [
    {
     "data": {
      "text/plain": [
       "(2899, 1)"
      ]
     },
     "execution_count": 37,
     "metadata": {},
     "output_type": "execute_result"
    }
   ],
   "source": [
    "train_predict.shape"
   ]
  },
  {
   "cell_type": "code",
   "execution_count": 38,
   "metadata": {
    "colab": {
     "base_uri": "https://localhost:8080/",
     "height": 33
    },
    "id": "M0q5dDoXly3z",
    "outputId": "ae7e13f8-07fe-4a94-c2b7-dd8d21611294"
   },
   "outputs": [
    {
     "data": {
      "text/plain": [
       "(608, 1)"
      ]
     },
     "execution_count": 38,
     "metadata": {},
     "output_type": "execute_result"
    }
   ],
   "source": [
    "test_predict.shape"
   ]
  },
  {
   "cell_type": "code",
   "execution_count": 39,
   "metadata": {
    "id": "EX5gNzrjd29d"
   },
   "outputs": [
    {
     "name": "stdout",
     "output_type": "stream",
     "text": [
      "19/19 [==============================] - 2s 99ms/step\n"
     ]
    }
   ],
   "source": [
    "#calcualtion of RMSE\n",
    "import math\n",
    "from sklearn.metrics import mean_squared_error, precision_score,recall_score,f1_score\n",
    "math.sqrt(mean_squared_error(y_train,train_predict))\n",
    "from sklearn.metrics import confusion_matrix\n",
    "x=confusion_matrix=(x_test, model.predict(x_test))"
   ]
  },
  {
   "cell_type": "code",
   "execution_count": 40,
   "metadata": {
    "colab": {
     "base_uri": "https://localhost:8080/",
     "height": 940
    },
    "id": "TkbkM0jNF9Jt",
    "outputId": "ea05965b-c617-40dc-e3b3-af77aa0d91bc"
   },
   "outputs": [
    {
     "name": "stdout",
     "output_type": "stream",
     "text": [
      "(array([[[0.66334386],\n",
      "        [0.67538503],\n",
      "        [0.68001472],\n",
      "        ...,\n",
      "        [0.73357742],\n",
      "        [0.72878467],\n",
      "        [0.70646379]],\n",
      "\n",
      "       [[0.67538503],\n",
      "        [0.68001472],\n",
      "        [0.68077811],\n",
      "        ...,\n",
      "        [0.72878467],\n",
      "        [0.70646379],\n",
      "        [0.70393895]],\n",
      "\n",
      "       [[0.68001472],\n",
      "        [0.68077811],\n",
      "        [0.67963921],\n",
      "        ...,\n",
      "        [0.70646379],\n",
      "        [0.70393895],\n",
      "        [0.70850441]],\n",
      "\n",
      "       ...,\n",
      "\n",
      "       [[0.85570115],\n",
      "        [0.8622183 ],\n",
      "        [0.86873793],\n",
      "        ...,\n",
      "        [1.        ],\n",
      "        [0.99566676],\n",
      "        [0.97894895]],\n",
      "\n",
      "       [[0.8622183 ],\n",
      "        [0.86873793],\n",
      "        [0.8729674 ],\n",
      "        ...,\n",
      "        [0.99566676],\n",
      "        [0.97894895],\n",
      "        [0.96838761]],\n",
      "\n",
      "       [[0.86873793],\n",
      "        [0.8729674 ],\n",
      "        [0.89311919],\n",
      "        ...,\n",
      "        [0.97894895],\n",
      "        [0.96838761],\n",
      "        [0.96838761]]]), array([[0.5665439 ],\n",
      "       [0.56158406],\n",
      "       [0.55967164],\n",
      "       [0.56359553],\n",
      "       [0.57012564],\n",
      "       [0.57354313],\n",
      "       [0.5768354 ],\n",
      "       [0.5778188 ],\n",
      "       [0.57734936],\n",
      "       [0.5760424 ],\n",
      "       [0.57640916],\n",
      "       [0.58052397],\n",
      "       [0.5862771 ],\n",
      "       [0.58985835],\n",
      "       [0.5907157 ],\n",
      "       [0.5902008 ],\n",
      "       [0.5895073 ],\n",
      "       [0.5906469 ],\n",
      "       [0.5927941 ],\n",
      "       [0.5937253 ],\n",
      "       [0.5939993 ],\n",
      "       [0.5943399 ],\n",
      "       [0.59194624],\n",
      "       [0.5870396 ],\n",
      "       [0.5790802 ],\n",
      "       [0.5730429 ],\n",
      "       [0.56396586],\n",
      "       [0.5593066 ],\n",
      "       [0.55904293],\n",
      "       [0.56494063],\n",
      "       [0.57292885],\n",
      "       [0.582174  ],\n",
      "       [0.58940095],\n",
      "       [0.5928841 ],\n",
      "       [0.589797  ],\n",
      "       [0.582613  ],\n",
      "       [0.5733948 ],\n",
      "       [0.5683888 ],\n",
      "       [0.56978005],\n",
      "       [0.573818  ],\n",
      "       [0.5740817 ],\n",
      "       [0.57106864],\n",
      "       [0.5726067 ],\n",
      "       [0.5750382 ],\n",
      "       [0.57643074],\n",
      "       [0.5757041 ],\n",
      "       [0.57006836],\n",
      "       [0.568721  ],\n",
      "       [0.5613133 ],\n",
      "       [0.55643684],\n",
      "       [0.5526014 ],\n",
      "       [0.55310667],\n",
      "       [0.5568429 ],\n",
      "       [0.56324935],\n",
      "       [0.56365776],\n",
      "       [0.5560844 ],\n",
      "       [0.54552335],\n",
      "       [0.5415149 ],\n",
      "       [0.55074763],\n",
      "       [0.5610215 ],\n",
      "       [0.57078147],\n",
      "       [0.5774468 ],\n",
      "       [0.57896   ],\n",
      "       [0.58016694],\n",
      "       [0.5790042 ],\n",
      "       [0.57888025],\n",
      "       [0.5755602 ],\n",
      "       [0.57617   ],\n",
      "       [0.5732218 ],\n",
      "       [0.57392514],\n",
      "       [0.5729593 ],\n",
      "       [0.57470053],\n",
      "       [0.5777008 ],\n",
      "       [0.5814099 ],\n",
      "       [0.5824115 ],\n",
      "       [0.586009  ],\n",
      "       [0.5910302 ],\n",
      "       [0.59217864],\n",
      "       [0.58920866],\n",
      "       [0.5840702 ],\n",
      "       [0.58019286],\n",
      "       [0.5767409 ],\n",
      "       [0.57596076],\n",
      "       [0.57682407],\n",
      "       [0.5789239 ],\n",
      "       [0.5759513 ],\n",
      "       [0.57341665],\n",
      "       [0.56844395],\n",
      "       [0.56806344],\n",
      "       [0.56937176],\n",
      "       [0.56992143],\n",
      "       [0.5711683 ],\n",
      "       [0.5714128 ],\n",
      "       [0.5728954 ],\n",
      "       [0.57548594],\n",
      "       [0.57300085],\n",
      "       [0.5696003 ],\n",
      "       [0.56798774],\n",
      "       [0.5656258 ],\n",
      "       [0.55948555],\n",
      "       [0.5522233 ],\n",
      "       [0.54768443],\n",
      "       [0.5473757 ],\n",
      "       [0.5473735 ],\n",
      "       [0.54818594],\n",
      "       [0.54737586],\n",
      "       [0.5476721 ],\n",
      "       [0.5529282 ],\n",
      "       [0.5536001 ],\n",
      "       [0.5547298 ],\n",
      "       [0.55667794],\n",
      "       [0.5580213 ],\n",
      "       [0.5580356 ],\n",
      "       [0.55600315],\n",
      "       [0.5560684 ],\n",
      "       [0.5593437 ],\n",
      "       [0.5637672 ],\n",
      "       [0.56715107],\n",
      "       [0.56683064],\n",
      "       [0.5679015 ],\n",
      "       [0.5651373 ],\n",
      "       [0.56197965],\n",
      "       [0.55879456],\n",
      "       [0.55502766],\n",
      "       [0.5531106 ],\n",
      "       [0.54803044],\n",
      "       [0.54239345],\n",
      "       [0.5391122 ],\n",
      "       [0.54034895],\n",
      "       [0.53711194],\n",
      "       [0.5355073 ],\n",
      "       [0.5355211 ],\n",
      "       [0.5387283 ],\n",
      "       [0.5409588 ],\n",
      "       [0.54510665],\n",
      "       [0.55084515],\n",
      "       [0.55303293],\n",
      "       [0.5519598 ],\n",
      "       [0.5496219 ],\n",
      "       [0.54641116],\n",
      "       [0.5443245 ],\n",
      "       [0.54599345],\n",
      "       [0.54776204],\n",
      "       [0.55325276],\n",
      "       [0.5591948 ],\n",
      "       [0.5616799 ],\n",
      "       [0.56076264],\n",
      "       [0.5576855 ],\n",
      "       [0.55310476],\n",
      "       [0.54960394],\n",
      "       [0.5497286 ],\n",
      "       [0.5523001 ],\n",
      "       [0.56016624],\n",
      "       [0.566241  ],\n",
      "       [0.5713221 ],\n",
      "       [0.5720687 ],\n",
      "       [0.56995326],\n",
      "       [0.5642187 ],\n",
      "       [0.56281346],\n",
      "       [0.56669873],\n",
      "       [0.5744727 ],\n",
      "       [0.5815484 ],\n",
      "       [0.58549327],\n",
      "       [0.58648944],\n",
      "       [0.5840602 ],\n",
      "       [0.58016795],\n",
      "       [0.5765293 ],\n",
      "       [0.57648146],\n",
      "       [0.5798357 ],\n",
      "       [0.5833243 ],\n",
      "       [0.5855237 ],\n",
      "       [0.58720106],\n",
      "       [0.58813816],\n",
      "       [0.58840376],\n",
      "       [0.58858424],\n",
      "       [0.58500963],\n",
      "       [0.577664  ],\n",
      "       [0.573167  ],\n",
      "       [0.57351625],\n",
      "       [0.5766392 ],\n",
      "       [0.57554626],\n",
      "       [0.57615644],\n",
      "       [0.5759707 ],\n",
      "       [0.57756877],\n",
      "       [0.5799537 ],\n",
      "       [0.5815712 ],\n",
      "       [0.58367646],\n",
      "       [0.5825273 ],\n",
      "       [0.5833071 ],\n",
      "       [0.5854479 ],\n",
      "       [0.58799803],\n",
      "       [0.5906976 ],\n",
      "       [0.5887294 ],\n",
      "       [0.5886639 ],\n",
      "       [0.5850795 ],\n",
      "       [0.57982564],\n",
      "       [0.5776882 ],\n",
      "       [0.5781629 ],\n",
      "       [0.5789448 ],\n",
      "       [0.5797316 ],\n",
      "       [0.5750306 ],\n",
      "       [0.5698814 ],\n",
      "       [0.56295913],\n",
      "       [0.5609765 ],\n",
      "       [0.5597134 ],\n",
      "       [0.56496954],\n",
      "       [0.57100195],\n",
      "       [0.57647324],\n",
      "       [0.58112067],\n",
      "       [0.5818003 ],\n",
      "       [0.57772696],\n",
      "       [0.5742361 ],\n",
      "       [0.5690219 ],\n",
      "       [0.5670051 ],\n",
      "       [0.56957185],\n",
      "       [0.57214904],\n",
      "       [0.577825  ],\n",
      "       [0.58309   ],\n",
      "       [0.5847034 ],\n",
      "       [0.58546257],\n",
      "       [0.58427423],\n",
      "       [0.5849127 ],\n",
      "       [0.58522534],\n",
      "       [0.5853499 ],\n",
      "       [0.5845733 ],\n",
      "       [0.5854818 ],\n",
      "       [0.58887243],\n",
      "       [0.5926797 ],\n",
      "       [0.59257585],\n",
      "       [0.5913536 ],\n",
      "       [0.5907385 ],\n",
      "       [0.5907383 ],\n",
      "       [0.5919336 ],\n",
      "       [0.59021497],\n",
      "       [0.5908345 ],\n",
      "       [0.59234315],\n",
      "       [0.5943792 ],\n",
      "       [0.5957571 ],\n",
      "       [0.5956671 ],\n",
      "       [0.5948433 ],\n",
      "       [0.59210306],\n",
      "       [0.5889965 ],\n",
      "       [0.58844227],\n",
      "       [0.58955246],\n",
      "       [0.59395957],\n",
      "       [0.59670377],\n",
      "       [0.5994183 ],\n",
      "       [0.60054713],\n",
      "       [0.6032792 ],\n",
      "       [0.6032263 ],\n",
      "       [0.6019594 ],\n",
      "       [0.5981121 ],\n",
      "       [0.5954065 ],\n",
      "       [0.59311134],\n",
      "       [0.59389585],\n",
      "       [0.59277564],\n",
      "       [0.59370273],\n",
      "       [0.59591407],\n",
      "       [0.59799284],\n",
      "       [0.5956386 ],\n",
      "       [0.5919398 ],\n",
      "       [0.5888916 ],\n",
      "       [0.5890566 ],\n",
      "       [0.5893553 ],\n",
      "       [0.5869946 ],\n",
      "       [0.5827313 ],\n",
      "       [0.58222395],\n",
      "       [0.5837105 ],\n",
      "       [0.58640146],\n",
      "       [0.59088546],\n",
      "       [0.5927471 ],\n",
      "       [0.59319556],\n",
      "       [0.5924824 ],\n",
      "       [0.5900224 ],\n",
      "       [0.5866177 ],\n",
      "       [0.5834711 ],\n",
      "       [0.583953  ],\n",
      "       [0.5839093 ],\n",
      "       [0.5847258 ],\n",
      "       [0.5844249 ],\n",
      "       [0.58620554],\n",
      "       [0.58639014],\n",
      "       [0.5882909 ],\n",
      "       [0.5897469 ],\n",
      "       [0.59094125],\n",
      "       [0.590934  ],\n",
      "       [0.59107244],\n",
      "       [0.5897361 ],\n",
      "       [0.5885176 ],\n",
      "       [0.58497363],\n",
      "       [0.5785876 ],\n",
      "       [0.57569224],\n",
      "       [0.5765029 ],\n",
      "       [0.5768259 ],\n",
      "       [0.5798776 ],\n",
      "       [0.5834638 ],\n",
      "       [0.58622354],\n",
      "       [0.58651733],\n",
      "       [0.58681667],\n",
      "       [0.5858319 ],\n",
      "       [0.5850915 ],\n",
      "       [0.5840892 ],\n",
      "       [0.58432627],\n",
      "       [0.5871179 ],\n",
      "       [0.5886646 ],\n",
      "       [0.589241  ],\n",
      "       [0.58764696],\n",
      "       [0.58403033],\n",
      "       [0.57867134],\n",
      "       [0.57515264],\n",
      "       [0.5722396 ],\n",
      "       [0.57148993],\n",
      "       [0.5720222 ],\n",
      "       [0.57447934],\n",
      "       [0.5772683 ],\n",
      "       [0.58206576],\n",
      "       [0.58526707],\n",
      "       [0.5864584 ],\n",
      "       [0.58649224],\n",
      "       [0.58167106],\n",
      "       [0.576585  ],\n",
      "       [0.5695667 ],\n",
      "       [0.56589913],\n",
      "       [0.5631809 ],\n",
      "       [0.5651545 ],\n",
      "       [0.5679014 ],\n",
      "       [0.57115215],\n",
      "       [0.5742125 ],\n",
      "       [0.57497513],\n",
      "       [0.573963  ],\n",
      "       [0.5709184 ],\n",
      "       [0.56880325],\n",
      "       [0.5671185 ],\n",
      "       [0.56701833],\n",
      "       [0.5704792 ],\n",
      "       [0.57689416],\n",
      "       [0.5822236 ],\n",
      "       [0.5845877 ],\n",
      "       [0.58491755],\n",
      "       [0.5832478 ],\n",
      "       [0.58217794],\n",
      "       [0.5820784 ],\n",
      "       [0.5832915 ],\n",
      "       [0.58502924],\n",
      "       [0.58625937],\n",
      "       [0.58714527],\n",
      "       [0.5859777 ],\n",
      "       [0.5829996 ],\n",
      "       [0.5798814 ],\n",
      "       [0.57800764],\n",
      "       [0.5786161 ],\n",
      "       [0.581094  ],\n",
      "       [0.583869  ],\n",
      "       [0.5861787 ],\n",
      "       [0.5885678 ],\n",
      "       [0.58954734],\n",
      "       [0.59132016],\n",
      "       [0.5917824 ],\n",
      "       [0.5912392 ],\n",
      "       [0.59019566],\n",
      "       [0.58924764],\n",
      "       [0.5907431 ],\n",
      "       [0.59269226],\n",
      "       [0.59493834],\n",
      "       [0.5948886 ],\n",
      "       [0.59452075],\n",
      "       [0.59440905],\n",
      "       [0.593072  ],\n",
      "       [0.5916418 ],\n",
      "       [0.5893018 ],\n",
      "       [0.588061  ],\n",
      "       [0.5895602 ],\n",
      "       [0.59131765],\n",
      "       [0.59266233],\n",
      "       [0.5940116 ],\n",
      "       [0.5974147 ],\n",
      "       [0.59984696],\n",
      "       [0.60084856],\n",
      "       [0.5997285 ],\n",
      "       [0.59746003],\n",
      "       [0.59588367],\n",
      "       [0.5951179 ],\n",
      "       [0.59609646],\n",
      "       [0.5981564 ],\n",
      "       [0.59928924],\n",
      "       [0.5987761 ],\n",
      "       [0.5977538 ],\n",
      "       [0.597906  ],\n",
      "       [0.5988566 ],\n",
      "       [0.599428  ],\n",
      "       [0.6012086 ],\n",
      "       [0.6010403 ],\n",
      "       [0.60147834],\n",
      "       [0.6011808 ],\n",
      "       [0.5998485 ],\n",
      "       [0.59761816],\n",
      "       [0.59666276],\n",
      "       [0.59668076],\n",
      "       [0.597668  ],\n",
      "       [0.6023947 ],\n",
      "       [0.6085432 ],\n",
      "       [0.61483115],\n",
      "       [0.61755496],\n",
      "       [0.6165341 ],\n",
      "       [0.6132279 ],\n",
      "       [0.6093197 ],\n",
      "       [0.60688484],\n",
      "       [0.60705364],\n",
      "       [0.60876215],\n",
      "       [0.6108408 ],\n",
      "       [0.6134373 ],\n",
      "       [0.61676085],\n",
      "       [0.6188715 ],\n",
      "       [0.6195359 ],\n",
      "       [0.61810946],\n",
      "       [0.615378  ],\n",
      "       [0.6125826 ],\n",
      "       [0.6110123 ],\n",
      "       [0.6121969 ],\n",
      "       [0.612401  ],\n",
      "       [0.6127718 ],\n",
      "       [0.6137128 ],\n",
      "       [0.6133576 ],\n",
      "       [0.61057776],\n",
      "       [0.607635  ],\n",
      "       [0.6069336 ],\n",
      "       [0.6085884 ],\n",
      "       [0.61072624],\n",
      "       [0.61273974],\n",
      "       [0.61301386],\n",
      "       [0.6104159 ],\n",
      "       [0.60729367],\n",
      "       [0.6047934 ],\n",
      "       [0.6050422 ],\n",
      "       [0.6051614 ],\n",
      "       [0.6062101 ],\n",
      "       [0.60794896],\n",
      "       [0.60984284],\n",
      "       [0.61196333],\n",
      "       [0.6104347 ],\n",
      "       [0.6079691 ],\n",
      "       [0.60602856],\n",
      "       [0.6062332 ],\n",
      "       [0.6069271 ],\n",
      "       [0.6067979 ],\n",
      "       [0.6091759 ],\n",
      "       [0.6117588 ],\n",
      "       [0.61411273],\n",
      "       [0.61489344],\n",
      "       [0.6162873 ],\n",
      "       [0.6178854 ],\n",
      "       [0.62132037],\n",
      "       [0.62219566],\n",
      "       [0.62313205],\n",
      "       [0.62260395],\n",
      "       [0.62182134],\n",
      "       [0.6205334 ],\n",
      "       [0.61775625],\n",
      "       [0.613925  ],\n",
      "       [0.61018056],\n",
      "       [0.6076982 ],\n",
      "       [0.60748535],\n",
      "       [0.60857075],\n",
      "       [0.61180407],\n",
      "       [0.6127461 ],\n",
      "       [0.61271757],\n",
      "       [0.6118031 ],\n",
      "       [0.60917664],\n",
      "       [0.60773504],\n",
      "       [0.60836226],\n",
      "       [0.6094481 ],\n",
      "       [0.6109468 ],\n",
      "       [0.61400735],\n",
      "       [0.616972  ],\n",
      "       [0.6168477 ],\n",
      "       [0.6158316 ],\n",
      "       [0.61508447],\n",
      "       [0.6146583 ],\n",
      "       [0.61162645],\n",
      "       [0.60888404],\n",
      "       [0.6067311 ],\n",
      "       [0.606563  ],\n",
      "       [0.6050892 ],\n",
      "       [0.6016207 ],\n",
      "       [0.59749705],\n",
      "       [0.59648615],\n",
      "       [0.59979945],\n",
      "       [0.60288435],\n",
      "       [0.6058865 ],\n",
      "       [0.60818505],\n",
      "       [0.6102782 ],\n",
      "       [0.6115288 ],\n",
      "       [0.6121154 ],\n",
      "       [0.61173683],\n",
      "       [0.6096753 ],\n",
      "       [0.60899794],\n",
      "       [0.6088639 ],\n",
      "       [0.61141735],\n",
      "       [0.61404896],\n",
      "       [0.6160313 ],\n",
      "       [0.61680245],\n",
      "       [0.6167484 ],\n",
      "       [0.6160073 ],\n",
      "       [0.6155315 ],\n",
      "       [0.6149505 ],\n",
      "       [0.6146615 ],\n",
      "       [0.61487824],\n",
      "       [0.61671513],\n",
      "       [0.61985093],\n",
      "       [0.623222  ],\n",
      "       [0.6293209 ],\n",
      "       [0.6354339 ],\n",
      "       [0.6402496 ],\n",
      "       [0.6407332 ],\n",
      "       [0.6379666 ],\n",
      "       [0.63371176],\n",
      "       [0.63068753],\n",
      "       [0.62849265],\n",
      "       [0.63007075],\n",
      "       [0.6345121 ],\n",
      "       [0.640581  ],\n",
      "       [0.6448562 ],\n",
      "       [0.6465635 ],\n",
      "       [0.63968647],\n",
      "       [0.63414603],\n",
      "       [0.6296944 ],\n",
      "       [0.6303649 ],\n",
      "       [0.6344977 ],\n",
      "       [0.64200455],\n",
      "       [0.6477828 ],\n",
      "       [0.65001804],\n",
      "       [0.6482988 ],\n",
      "       [0.64354837],\n",
      "       [0.6381768 ],\n",
      "       [0.6357131 ],\n",
      "       [0.63654006],\n",
      "       [0.6385787 ],\n",
      "       [0.6394876 ],\n",
      "       [0.6410003 ],\n",
      "       [0.6425202 ],\n",
      "       [0.6464429 ],\n",
      "       [0.6495552 ],\n",
      "       [0.6467098 ],\n",
      "       [0.63912785],\n",
      "       [0.6335658 ],\n",
      "       [0.6314032 ],\n",
      "       [0.63438284],\n",
      "       [0.63379484],\n",
      "       [0.6357366 ],\n",
      "       [0.6364356 ],\n",
      "       [0.6375253 ],\n",
      "       [0.640888  ],\n",
      "       [0.64112353],\n",
      "       [0.64312685],\n",
      "       [0.6439532 ],\n",
      "       [0.6458085 ],\n",
      "       [0.6452926 ],\n",
      "       [0.64648026],\n",
      "       [0.6464463 ],\n",
      "       [0.64367217],\n",
      "       [0.640856  ],\n",
      "       [0.6375221 ],\n",
      "       [0.6351779 ],\n",
      "       [0.6377554 ],\n",
      "       [0.6432099 ],\n",
      "       [0.6495003 ],\n",
      "       [0.65293235],\n",
      "       [0.6544123 ],\n",
      "       [0.6512336 ],\n",
      "       [0.64905787],\n",
      "       [0.64585775],\n",
      "       [0.6438184 ],\n",
      "       [0.64399457],\n",
      "       [0.6430148 ],\n",
      "       [0.6435739 ],\n",
      "       [0.64765173],\n",
      "       [0.6518541 ],\n",
      "       [0.65413344],\n",
      "       [0.65540916],\n",
      "       [0.6548304 ],\n",
      "       [0.6534725 ],\n",
      "       [0.64989907],\n",
      "       [0.64792395],\n",
      "       [0.6426509 ],\n",
      "       [0.64011747],\n",
      "       [0.63843125],\n",
      "       [0.6392622 ],\n",
      "       [0.63987195],\n",
      "       [0.6424952 ],\n",
      "       [0.64395434],\n",
      "       [0.6448865 ],\n",
      "       [0.6445847 ],\n",
      "       [0.6450009 ],\n",
      "       [0.64631593],\n",
      "       [0.6477598 ],\n",
      "       [0.6514818 ],\n",
      "       [0.65428394],\n",
      "       [0.6548881 ],\n",
      "       [0.6552529 ],\n",
      "       [0.6535843 ],\n",
      "       [0.65266055],\n",
      "       [0.6536386 ],\n",
      "       [0.6554946 ],\n",
      "       [0.65704715],\n",
      "       [0.6565969 ],\n",
      "       [0.6516516 ],\n",
      "       [0.6442545 ],\n",
      "       [0.6384844 ]], dtype=float32))\n"
     ]
    }
   ],
   "source": [
    "print(x)"
   ]
  },
  {
   "cell_type": "code",
   "execution_count": 41,
   "metadata": {
    "colab": {
     "base_uri": "https://localhost:8080/",
     "height": 33
    },
    "id": "I61fvvk2_Kyj",
    "outputId": "cbb65f2d-3148-4f4e-b492-8862a9f28916"
   },
   "outputs": [
    {
     "data": {
      "text/plain": [
       "0.498928181712677"
      ]
     },
     "execution_count": 41,
     "metadata": {},
     "output_type": "execute_result"
    }
   ],
   "source": [
    "math.sqrt(mean_squared_error(y_test,test_predict))"
   ]
  },
  {
   "cell_type": "code",
   "execution_count": 42,
   "metadata": {
    "colab": {
     "base_uri": "https://localhost:8080/",
     "height": 350
    },
    "id": "nTvfbrBECG6K",
    "outputId": "f6c8de7e-8af1-4a25-95b2-acf7afce34f4"
   },
   "outputs": [
    {
     "data": {
      "image/png": "[encoded data removed]",
      "text/plain": [
       "<Figure size 1008x360 with 1 Axes>"
      ]
     },
     "metadata": {
      "needs_background": "light"
     },
     "output_type": "display_data"
    }
   ],
   "source": [
    "# Visualising the results\n",
    "plt.figure(figsize=(14,5))\n",
    "plt.plot(y_train, color = 'red', label = 'Actual NIFTY50 Stock Price')\n",
    "plt.plot(train_predict, color = 'blue', label = 'Predicted NIFTY50 Stock Price')\n",
    "plt.title('NIFTY50 Stock price')\n",
    "plt.xlabel('Time')\n",
    "plt.ylabel('NIFTY50 Stock Price')\n",
    "plt.legend()\n",
    "plt.show()"
   ]
  },
  {
   "cell_type": "code",
   "execution_count": 43,
   "metadata": {
    "id": "NIgO5FgqT8rx"
   },
   "outputs": [],
   "source": [
    "model=Sequential()\n",
    "model.add(tf.keras.layers.GRU(100,return_sequences=True,input_shape=(100,1)))\n",
    "model.add(tf.keras.layers.GRU(50,return_sequences=False))\n",
    "model.add(Dense(1))\n",
    "model.compile(loss='mean_squared_error',optimizer='adam')"
   ]
  },
  {
   "cell_type": "code",
   "execution_count": 44,
   "metadata": {
    "colab": {
     "base_uri": "https://localhost:8080/",
     "height": 1000
    },
    "id": "Mr74QBspZivh",
    "outputId": "f1f3523c-f921-478c-a573-4c16ef78bf40",
    "scrolled": true
   },
   "outputs": [
    {
     "name": "stdout",
     "output_type": "stream",
     "text": [
      "Epoch 1/50\n",
      "164/164 [==============================] - 33s 154ms/step - loss: 5.9299e-04 - val_loss: 1.4858e-04\n",
      "Epoch 2/50\n",
      "164/164 [==============================] - 19s 117ms/step - loss: 8.4585e-04 - val_loss: 2.1343e-04\n",
      "Epoch 3/50\n",
      "164/164 [==============================] - 15s 94ms/step - loss: 0.0016 - val_loss: 2.3391e-04\n",
      "Epoch 4/50\n",
      "164/164 [==============================] - 15s 91ms/step - loss: 0.0020 - val_loss: 2.9352e-04\n",
      "Epoch 5/50\n",
      "164/164 [==============================] - 15s 90ms/step - loss: 0.0022 - val_loss: 2.9165e-04\n",
      "Epoch 6/50\n",
      "164/164 [==============================] - 16s 97ms/step - loss: 0.0024 - val_loss: 2.9079e-04\n",
      "Epoch 7/50\n",
      "164/164 [==============================] - 15s 93ms/step - loss: 0.0025 - val_loss: 3.6012e-04\n",
      "Epoch 8/50\n",
      "164/164 [==============================] - 15s 91ms/step - loss: 0.0025 - val_loss: 5.6229e-04\n",
      "Epoch 9/50\n",
      "164/164 [==============================] - 15s 91ms/step - loss: 0.0022 - val_loss: 3.9890e-04\n",
      "Epoch 10/50\n",
      "164/164 [==============================] - 15s 90ms/step - loss: 0.0017 - val_loss: 2.7926e-04\n",
      "Epoch 11/50\n",
      "164/164 [==============================] - 16s 95ms/step - loss: 0.0013 - val_loss: 1.2957e-04\n",
      "Epoch 12/50\n",
      "164/164 [==============================] - 15s 91ms/step - loss: 7.4136e-04 - val_loss: 5.6581e-05\n",
      "Epoch 13/50\n",
      "164/164 [==============================] - 16s 95ms/step - loss: 2.6253e-04 - val_loss: 2.5121e-05\n",
      "Epoch 14/50\n",
      "164/164 [==============================] - 20s 121ms/step - loss: 5.2371e-05 - val_loss: 2.5513e-05\n",
      "Epoch 15/50\n",
      "164/164 [==============================] - 18s 109ms/step - loss: 1.6155e-05 - val_loss: 2.5104e-05\n",
      "Epoch 16/50\n",
      "164/164 [==============================] - 16s 96ms/step - loss: 1.5324e-05 - val_loss: 2.4656e-05\n",
      "Epoch 17/50\n",
      "164/164 [==============================] - 15s 91ms/step - loss: 1.5454e-05 - val_loss: 2.4344e-05\n",
      "Epoch 18/50\n",
      "164/164 [==============================] - 15s 92ms/step - loss: 1.5667e-05 - val_loss: 2.4145e-05\n",
      "Epoch 19/50\n",
      "164/164 [==============================] - 14s 88ms/step - loss: 1.6146e-05 - val_loss: 2.4108e-05\n",
      "Epoch 20/50\n",
      "164/164 [==============================] - 16s 100ms/step - loss: 1.7019e-05 - val_loss: 2.4261e-05\n",
      "Epoch 21/50\n",
      "164/164 [==============================] - 16s 95ms/step - loss: 1.8438e-05 - val_loss: 2.4355e-05\n",
      "Epoch 22/50\n",
      "164/164 [==============================] - 15s 93ms/step - loss: 2.0584e-05 - val_loss: 2.4048e-05\n",
      "Epoch 23/50\n",
      "164/164 [==============================] - 15s 90ms/step - loss: 2.3895e-05 - val_loss: 2.3758e-05\n",
      "Epoch 24/50\n",
      "164/164 [==============================] - 15s 91ms/step - loss: 2.9720e-05 - val_loss: 2.4334e-05\n",
      "Epoch 25/50\n",
      "164/164 [==============================] - 15s 91ms/step - loss: 4.1665e-05 - val_loss: 2.5863e-05\n",
      "Epoch 26/50\n",
      "164/164 [==============================] - 15s 93ms/step - loss: 6.7942e-05 - val_loss: 2.6693e-05\n",
      "Epoch 27/50\n",
      "164/164 [==============================] - 15s 90ms/step - loss: 1.2178e-04 - val_loss: 2.4536e-05\n",
      "Epoch 28/50\n",
      "164/164 [==============================] - 16s 95ms/step - loss: 2.0305e-04 - val_loss: 3.4397e-05\n",
      "Epoch 29/50\n",
      "164/164 [==============================] - 15s 94ms/step - loss: 2.7415e-04 - val_loss: 4.7604e-05\n",
      "Epoch 30/50\n",
      "164/164 [==============================] - 15s 94ms/step - loss: 2.9867e-04 - val_loss: 4.5387e-05\n",
      "Epoch 31/50\n",
      "164/164 [==============================] - 16s 99ms/step - loss: 2.6002e-04 - val_loss: 2.9586e-05\n",
      "Epoch 32/50\n",
      "164/164 [==============================] - 16s 98ms/step - loss: 1.7425e-04 - val_loss: 2.5394e-05\n",
      "Epoch 33/50\n",
      "164/164 [==============================] - 16s 99ms/step - loss: 1.1536e-04 - val_loss: 2.7789e-05\n",
      "Epoch 34/50\n",
      "164/164 [==============================] - 17s 104ms/step - loss: 1.0081e-04 - val_loss: 2.7059e-05\n",
      "Epoch 35/50\n",
      "164/164 [==============================] - 15s 91ms/step - loss: 7.0263e-05 - val_loss: 2.5537e-05\n",
      "Epoch 36/50\n",
      "164/164 [==============================] - 15s 91ms/step - loss: 6.0948e-05 - val_loss: 2.4501e-05\n",
      "Epoch 37/50\n",
      "164/164 [==============================] - 17s 104ms/step - loss: 5.7780e-05 - val_loss: 2.4109e-05\n",
      "Epoch 38/50\n",
      "164/164 [==============================] - 15s 93ms/step - loss: 6.3109e-05 - val_loss: 2.5109e-05\n",
      "Epoch 39/50\n",
      "164/164 [==============================] - 17s 102ms/step - loss: 7.8023e-05 - val_loss: 3.0603e-05\n",
      "Epoch 40/50\n",
      "164/164 [==============================] - 19s 114ms/step - loss: 1.0187e-04 - val_loss: 4.4569e-05\n",
      "Epoch 41/50\n",
      "164/164 [==============================] - 16s 95ms/step - loss: 1.2810e-04 - val_loss: 5.6448e-05\n",
      "Epoch 42/50\n",
      "164/164 [==============================] - 16s 97ms/step - loss: 1.5812e-04 - val_loss: 4.3248e-05\n",
      "Epoch 43/50\n",
      "164/164 [==============================] - 16s 95ms/step - loss: 1.7087e-04 - val_loss: 4.1115e-05\n",
      "Epoch 44/50\n",
      "164/164 [==============================] - 17s 103ms/step - loss: 1.6444e-04 - val_loss: 3.0529e-05\n",
      "Epoch 45/50\n",
      "164/164 [==============================] - 17s 105ms/step - loss: 1.7861e-04 - val_loss: 3.0527e-05\n",
      "Epoch 46/50\n",
      "164/164 [==============================] - 17s 103ms/step - loss: 1.7141e-04 - val_loss: 3.6777e-05\n",
      "Epoch 47/50\n",
      "164/164 [==============================] - 18s 107ms/step - loss: 1.5523e-04 - val_loss: 3.4061e-05\n",
      "Epoch 48/50\n",
      "164/164 [==============================] - 17s 101ms/step - loss: 1.5169e-04 - val_loss: 3.0268e-05\n",
      "Epoch 49/50\n",
      "164/164 [==============================] - 17s 104ms/step - loss: 1.2661e-04 - val_loss: 2.6742e-05\n",
      "Epoch 50/50\n",
      "164/164 [==============================] - 16s 96ms/step - loss: 9.2133e-05 - val_loss: 2.4514e-05\n"
     ]
    }
   ],
   "source": [
    "history=model.fit(\n",
    "    x_train,y_train,\n",
    "    validation_split=0.1,\n",
    "    shuffle=False, \n",
    "    epochs=50,batch_size=16,verbose=1)"
   ]
  },
  {
   "cell_type": "code",
   "execution_count": 45,
   "metadata": {
    "colab": {
     "base_uri": "https://localhost:8080/",
     "height": 282
    },
    "id": "thjhFmL8ZoEy",
    "outputId": "615b1cd6-c7eb-4f5c-b5aa-bc6621c18bc6"
   },
   "outputs": [
    {
     "data": {
      "text/plain": [
       "<matplotlib.legend.Legend at 0x20fa9581d00>"
      ]
     },
     "execution_count": 45,
     "metadata": {},
     "output_type": "execute_result"
    },
    {
     "data": {
      "image/png": "[encoded data removed]",
      "text/plain": [
       "<Figure size 432x288 with 1 Axes>"
      ]
     },
     "metadata": {
      "needs_background": "light"
     },
     "output_type": "display_data"
    }
   ],
   "source": [
    "plt.plot(history.history['loss'],label='train')\n",
    "plt.plot(history.history['val_loss'],label='validation')\n",
    "plt.legend()"
   ]
  },
  {
   "cell_type": "code",
   "execution_count": 46,
   "metadata": {
    "colab": {
     "base_uri": "https://localhost:8080/",
     "height": 33
    },
    "id": "r3J_CcyqHzFn",
    "outputId": "96b3eb80-abf0-46aa-ccf6-7e7ea6fe6d5b"
   },
   "outputs": [
    {
     "data": {
      "text/plain": [
       "(2899, 1)"
      ]
     },
     "execution_count": 46,
     "metadata": {},
     "output_type": "execute_result"
    }
   ],
   "source": [
    "train_predict.shape"
   ]
  },
  {
   "cell_type": "code",
   "execution_count": 47,
   "metadata": {
    "id": "HVrynqEhE0MV"
   },
   "outputs": [
    {
     "name": "stdout",
     "output_type": "stream",
     "text": [
      "91/91 [==============================] - 5s 34ms/step\n",
      "19/19 [==============================] - 1s 37ms/step\n"
     ]
    }
   ],
   "source": [
    "### Lets Do the prediction and check performance metrics\n",
    "train_predict=model.predict(x_train)\n",
    "test_predict=model.predict(x_test)"
   ]
  },
  {
   "cell_type": "code",
   "execution_count": 48,
   "metadata": {
    "colab": {
     "base_uri": "https://localhost:8080/",
     "height": 33
    },
    "id": "cKgoWsB5F4UR",
    "outputId": "51bc6a06-f9ee-43da-f790-71d444354978"
   },
   "outputs": [
    {
     "data": {
      "text/plain": [
       "0.010649692873389153"
      ]
     },
     "execution_count": 48,
     "metadata": {},
     "output_type": "execute_result"
    }
   ],
   "source": [
    "math.sqrt(mean_squared_error(y_train,train_predict))"
   ]
  },
  {
   "cell_type": "code",
   "execution_count": 49,
   "metadata": {
    "colab": {
     "base_uri": "https://localhost:8080/",
     "height": 350
    },
    "id": "XzlYK9G6JNsD",
    "outputId": "29534115-75ca-40cf-a1e0-13628f4d7797"
   },
   "outputs": [
    {
     "data": {
      "image/png": "[encoded data removed]",
      "text/plain": [
       "<Figure size 1008x360 with 1 Axes>"
      ]
     },
     "metadata": {
      "needs_background": "light"
     },
     "output_type": "display_data"
    }
   ],
   "source": [
    "# Visualising the results\n",
    "plt.figure(figsize=(14,5))\n",
    "plt.plot(y_train, color = 'red', label = 'Actual NIFTY50 stock price')\n",
    "plt.plot(train_predict, color = 'blue', label = 'Predicted NIFTY50 stock price')\n",
    "plt.title('NIFTY50 Stock Price')\n",
    "plt.xlabel('Time')\n",
    "plt.ylabel('NIFTY50 Stock Price')\n",
    "plt.legend()\n",
    "plt.show()"
   ]
  },
  {
   "cell_type": "code",
   "execution_count": 50,
   "metadata": {
    "id": "Kk9lMFghivV0"
   },
   "outputs": [],
   "source": [
    "model=Sequential()\n",
    "model.add(LSTM(100,return_sequences=True,input_shape=(100,1)))\n",
    "model.add(layer = tf.keras.layers.Dropout(.2,))\n",
    "model.add(tf.keras.layers.GRU(50,return_sequences=False))\n",
    "model.add(tf.keras.layers.Dropout(.2,))\n",
    "model.add(Dense(1))\n",
    "model.compile(loss='mean_squared_error', optimizer = tf.keras.optimizers.Adam(learning_rate=0.001))\n"
   ]
  },
  {
   "cell_type": "code",
   "execution_count": 51,
   "metadata": {
    "colab": {
     "base_uri": "https://localhost:8080/",
     "height": 688
    },
    "id": "-s0dBqsqkZKM",
    "outputId": "bb08f3bc-302d-45f0-e2ab-82f993fd55ca"
   },
   "outputs": [
    {
     "name": "stdout",
     "output_type": "stream",
     "text": [
      "Epoch 1/20\n",
      "164/164 [==============================] - 30s 133ms/step - loss: 0.0010 - val_loss: 4.5275e-04\n",
      "Epoch 2/20\n",
      "164/164 [==============================] - 20s 124ms/step - loss: 0.0016 - val_loss: 4.9323e-04\n",
      "Epoch 3/20\n",
      "164/164 [==============================] - 17s 106ms/step - loss: 0.0023 - val_loss: 6.4176e-04\n",
      "Epoch 4/20\n",
      "164/164 [==============================] - 18s 108ms/step - loss: 0.0024 - val_loss: 3.5298e-04\n",
      "Epoch 5/20\n",
      "164/164 [==============================] - 18s 109ms/step - loss: 0.0029 - val_loss: 9.5403e-04\n",
      "Epoch 6/20\n",
      "164/164 [==============================] - 17s 107ms/step - loss: 0.0030 - val_loss: 7.3598e-04\n",
      "Epoch 7/20\n",
      "164/164 [==============================] - 20s 123ms/step - loss: 0.0024 - val_loss: 1.4683e-04\n",
      "Epoch 8/20\n",
      "164/164 [==============================] - 18s 110ms/step - loss: 0.0020 - val_loss: 2.1734e-04\n",
      "Epoch 9/20\n",
      "164/164 [==============================] - 18s 110ms/step - loss: 0.0015 - val_loss: 1.7720e-04\n",
      "Epoch 10/20\n",
      "164/164 [==============================] - 18s 113ms/step - loss: 6.9342e-04 - val_loss: 7.5356e-05\n",
      "Epoch 11/20\n",
      "164/164 [==============================] - 17s 106ms/step - loss: 3.0781e-04 - val_loss: 7.4206e-04\n",
      "Epoch 12/20\n",
      "164/164 [==============================] - 18s 107ms/step - loss: 1.9058e-04 - val_loss: 1.0576e-04\n",
      "Epoch 13/20\n",
      "164/164 [==============================] - 18s 107ms/step - loss: 1.9045e-04 - val_loss: 5.5644e-04\n",
      "Epoch 14/20\n",
      "164/164 [==============================] - 18s 109ms/step - loss: 2.2443e-04 - val_loss: 7.2445e-05\n",
      "Epoch 15/20\n",
      "164/164 [==============================] - 18s 107ms/step - loss: 1.6965e-04 - val_loss: 1.5599e-04\n",
      "Epoch 16/20\n",
      "164/164 [==============================] - 20s 123ms/step - loss: 1.9030e-04 - val_loss: 8.4542e-05\n",
      "Epoch 17/20\n",
      "164/164 [==============================] - 18s 112ms/step - loss: 2.2981e-04 - val_loss: 7.8848e-04\n",
      "Epoch 18/20\n",
      "164/164 [==============================] - 21s 131ms/step - loss: 3.4867e-04 - val_loss: 8.8058e-05\n",
      "Epoch 19/20\n",
      "164/164 [==============================] - 20s 121ms/step - loss: 5.4933e-04 - val_loss: 9.6627e-05\n",
      "Epoch 20/20\n",
      "164/164 [==============================] - 21s 126ms/step - loss: 4.7553e-04 - val_loss: 3.1912e-04\n"
     ]
    }
   ],
   "source": [
    "history=model.fit(\n",
    "    x_train,y_train,\n",
    "    validation_split=0.1,\n",
    "    shuffle=False, \n",
    "    epochs=20,batch_size=16,verbose=1,)"
   ]
  },
  {
   "cell_type": "code",
   "execution_count": 52,
   "metadata": {
    "colab": {
     "base_uri": "https://localhost:8080/",
     "height": 282
    },
    "id": "nSqr8-5pa0o5",
    "outputId": "60f41bb8-9648-4c08-9068-028c9581aba3"
   },
   "outputs": [
    {
     "data": {
      "text/plain": [
       "<matplotlib.legend.Legend at 0x20f9840ee20>"
      ]
     },
     "execution_count": 52,
     "metadata": {},
     "output_type": "execute_result"
    },
    {
     "data": {
      "image/png": "[encoded data removed]",
      "text/plain": [
       "<Figure size 432x288 with 1 Axes>"
      ]
     },
     "metadata": {
      "needs_background": "light"
     },
     "output_type": "display_data"
    }
   ],
   "source": [
    "plt.plot(history.history['loss'],label='train')\n",
    "plt.plot(history.history['val_loss'],label='validation')\n",
    "plt.legend()"
   ]
  },
  {
   "cell_type": "code",
   "execution_count": 53,
   "metadata": {
    "id": "eE8ezyspXAUk"
   },
   "outputs": [
    {
     "name": "stdout",
     "output_type": "stream",
     "text": [
      "91/91 [==============================] - 8s 71ms/step\n",
      "19/19 [==============================] - 2s 81ms/step\n"
     ]
    }
   ],
   "source": [
    "### Lets Do the prediction and check performance metrics\n",
    "train_predict=model.predict(x_train)\n",
    "test_predict=model.predict(x_test)"
   ]
  },
  {
   "cell_type": "code",
   "execution_count": 54,
   "metadata": {
    "colab": {
     "base_uri": "https://localhost:8080/",
     "height": 50
    },
    "id": "Vad6-LEqJT5K",
    "outputId": "aad452e1-dda1-4a70-efb8-64225952fe56"
   },
   "outputs": [
    {
     "name": "stdout",
     "output_type": "stream",
     "text": [
      "(2899, 1)\n",
      "(608, 1)\n"
     ]
    }
   ],
   "source": [
    "print(train_predict.shape)\n",
    "print(test_predict.shape)"
   ]
  },
  {
   "cell_type": "code",
   "execution_count": 55,
   "metadata": {
    "colab": {
     "base_uri": "https://localhost:8080/",
     "height": 33
    },
    "id": "OIKJmOVtJWDU",
    "outputId": "eb7b2d2a-25cd-4d06-f393-0f203b56ca18"
   },
   "outputs": [
    {
     "data": {
      "text/plain": [
       "0.03750731037565798"
      ]
     },
     "execution_count": 55,
     "metadata": {},
     "output_type": "execute_result"
    }
   ],
   "source": [
    "math.sqrt(mean_squared_error(y_train,train_predict))"
   ]
  },
  {
   "cell_type": "code",
   "execution_count": 56,
   "metadata": {
    "colab": {
     "base_uri": "https://localhost:8080/",
     "height": 350
    },
    "id": "utJQzOK7JX2h",
    "outputId": "3bd00ea6-d713-4d71-c9f4-feac1c5ccba1"
   },
   "outputs": [
    {
     "data": {
      "image/png": "[encoded data removed]",
      "text/plain": [
       "<Figure size 1008x360 with 1 Axes>"
      ]
     },
     "metadata": {
      "needs_background": "light"
     },
     "output_type": "display_data"
    }
   ],
   "source": [
    "# Visualising the results\n",
    "plt.figure(figsize=(14,5))\n",
    "plt.plot(y_train, color = 'red', label = 'Actual NIFTY50 stock price')\n",
    "plt.plot(train_predict, color = 'blue', label = 'Predicted NIFTY50 stock price')\n",
    "plt.title('NIFTY50 Stock Price')\n",
    "plt.xlabel('Time')\n",
    "plt.ylabel('NIFTY50 Stock Price')\n",
    "plt.legend()\n",
    "plt.show()"
   ]
  }
 ],
 "metadata": {
  "accelerator": "GPU",
  "colab": {
   "authorship_tag": "ABX9TyNExPPqzUOv2zL7uk29Tyex",
   "collapsed_sections": [],
   "include_colab_link": true,
   "name": " stock market price predicrtion.ipynb",
   "provenance": []
  },
  "kernelspec": {
   "display_name": "Python 3 (ipykernel)",
   "language": "python",
   "name": "python3"
  },
  "language_info": {
   "codemirror_mode": {
    "name": "ipython",
    "version": 3
   },
   "file_extension": ".py",
   "mimetype": "text/x-python",
   "name": "python",
   "nbconvert_exporter": "python",
   "pygments_lexer": "ipython3",
   "version": "3.9.12"
  }
 },
 "nbformat": 4,
 "nbformat_minor": 1
}
